{
 "cells": [
  {
   "cell_type": "markdown",
   "id": "cce46ea6-9df3-4bba-ae16-f0dbed4bd96e",
   "metadata": {},
   "source": [
    "# K-Means 算法：局部最优特性\n",
    "---\n"
   ]
  },
  {
   "cell_type": "code",
   "execution_count": 1,
   "id": "48065706-2601-48ae-a28a-328d97172a69",
   "metadata": {},
   "outputs": [],
   "source": [
    "import random\n",
    "import numpy as np\n",
    "import pandas as pd\n",
    "import matplotlib.pyplot as plt"
   ]
  },
  {
   "cell_type": "markdown",
   "id": "6ac387fe-dbd0-4ea3-9ac8-71c4ccf3fa07",
   "metadata": {},
   "source": [
    "首先我们定义数据点为\n",
    "\n",
    "$ A(0,0)，B(2,2)，C(3,3)，D(5,5) $\n",
    "\n",
    "将结果保存到内存中，使用 numpy 数组保存"
   ]
  },
  {
   "cell_type": "code",
   "execution_count": 2,
   "id": "f58ebed5-ef05-4a23-91f7-b8852bd80af3",
   "metadata": {},
   "outputs": [
    {
     "data": {
      "image/png": "[encoded data removed]",
      "text/plain": [
       "<Figure size 300x300 with 1 Axes>"
      ]
     },
     "metadata": {},
     "output_type": "display_data"
    }
   ],
   "source": [
    "x = [[0,0],[2,2],[3,3],[5,5]]\n",
    "X = np.array(x)\n",
    "\n",
    "plt.figure(figsize=(3,3))\n",
    "plt.title(\"Fig1. Scatter\")\n",
    "plt.scatter(X[:,0], X[:,1])\n",
    "plt.show()"
   ]
  },
  {
   "cell_type": "markdown",
   "id": "9c838f17-dc89-4dec-8ad8-4e89164cd027",
   "metadata": {},
   "source": [
    "这时候我们的 data 维度是 $ (4,2) $，令 $ K = 2 $ 随机从里面选两个点出来"
   ]
  },
  {
   "cell_type": "code",
   "execution_count": 3,
   "id": "9cf8bf45-ac47-4a44-9852-b544697810c4",
   "metadata": {},
   "outputs": [
    {
     "data": {
      "text/html": [
       "<div>\n",
       "<style scoped>\n",
       "    .dataframe tbody tr th:only-of-type {\n",
       "        vertical-align: middle;\n",
       "    }\n",
       "\n",
       "    .dataframe tbody tr th {\n",
       "        vertical-align: top;\n",
       "    }\n",
       "\n",
       "    .dataframe thead th {\n",
       "        text-align: right;\n",
       "    }\n",
       "</style>\n",
       "<table border=\"1\" class=\"dataframe\">\n",
       "  <thead>\n",
       "    <tr style=\"text-align: right;\">\n",
       "      <th></th>\n",
       "      <th>X</th>\n",
       "      <th>Y</th>\n",
       "    </tr>\n",
       "  </thead>\n",
       "  <tbody>\n",
       "    <tr>\n",
       "      <th>C1</th>\n",
       "      <td>5</td>\n",
       "      <td>5</td>\n",
       "    </tr>\n",
       "    <tr>\n",
       "      <th>C2</th>\n",
       "      <td>2</td>\n",
       "      <td>2</td>\n",
       "    </tr>\n",
       "  </tbody>\n",
       "</table>\n",
       "</div>"
      ],
      "text/plain": [
       "    X  Y\n",
       "C1  5  5\n",
       "C2  2  2"
      ]
     },
     "execution_count": 3,
     "metadata": {},
     "output_type": "execute_result"
    }
   ],
   "source": [
    "c = random.sample(x, 2)\n",
    "pf = pd.DataFrame(c, columns=['X', 'Y'], index=['C{}'.format(i+1) for i in range(2)])\n",
    "pf"
   ]
  },
  {
   "cell_type": "markdown",
   "id": "8ad20627-ba32-49fe-8a03-28ee4993b7e8",
   "metadata": {},
   "source": [
    "我们也可以固定两个点作为起点"
   ]
  },
  {
   "cell_type": "code",
   "execution_count": 4,
   "id": "31f84564-f554-4d4d-897e-1c062326a6db",
   "metadata": {},
   "outputs": [],
   "source": [
    "c = [[0,0], [5,5]]"
   ]
  },
  {
   "cell_type": "markdown",
   "id": "18bb05ea-c4bf-4a79-97b9-a2562416a445",
   "metadata": {},
   "source": [
    "逐个进行求 $R^2$ 空间内的距离 $d(x_i, c_i) = \\sum_{x_i ∈ X, c_i ∈ C} \\sqrt{|| c_i - x_i ||^2}$\n",
    "\n",
    "我们先规定我们的数据\n",
    "\n",
    "$ X =  \\begin{bmatrix}\n",
    "0 & 0 \\\\\n",
    "2 & 2 \\\\\n",
    "3 & 3 \\\\\n",
    "5 & 5 \\\\\n",
    "\\end{bmatrix}$ ，\n",
    "$ K = \\begin{bmatrix}\n",
    "r_x & r_y \n",
    "\\end{bmatrix}$ ，\n",
    "$\n",
    "S = \\begin{bmatrix}\n",
    "1 \\\\\n",
    "1\n",
    "\\end{bmatrix}\n",
    "$\n",
    "\n",
    "实际运算中，会自动进行形状适配，对维度为 $1$ 的部分进行扩充\n",
    "\n",
    "计算 $ E_i = \\sqrt{(X - K_i)^2 \\cdot S}，其中 K_i∈K$"
   ]
  },
  {
   "cell_type": "code",
   "execution_count": 5,
   "id": "8f955a67-a52c-4cce-88f2-7c2c079374ab",
   "metadata": {},
   "outputs": [
    {
     "data": {
      "text/html": [
       "<div>\n",
       "<style scoped>\n",
       "    .dataframe tbody tr th:only-of-type {\n",
       "        vertical-align: middle;\n",
       "    }\n",
       "\n",
       "    .dataframe tbody tr th {\n",
       "        vertical-align: top;\n",
       "    }\n",
       "\n",
       "    .dataframe thead th {\n",
       "        text-align: right;\n",
       "    }\n",
       "</style>\n",
       "<table border=\"1\" class=\"dataframe\">\n",
       "  <thead>\n",
       "    <tr style=\"text-align: right;\">\n",
       "      <th></th>\n",
       "      <th>C1</th>\n",
       "      <th>C2</th>\n",
       "    </tr>\n",
       "  </thead>\n",
       "  <tbody>\n",
       "    <tr>\n",
       "      <th>A</th>\n",
       "      <td>0.000000</td>\n",
       "      <td>7.071068</td>\n",
       "    </tr>\n",
       "    <tr>\n",
       "      <th>B</th>\n",
       "      <td>2.828427</td>\n",
       "      <td>4.242641</td>\n",
       "    </tr>\n",
       "    <tr>\n",
       "      <th>C</th>\n",
       "      <td>4.242641</td>\n",
       "      <td>2.828427</td>\n",
       "    </tr>\n",
       "    <tr>\n",
       "      <th>D</th>\n",
       "      <td>7.071068</td>\n",
       "      <td>0.000000</td>\n",
       "    </tr>\n",
       "  </tbody>\n",
       "</table>\n",
       "</div>"
      ],
      "text/plain": [
       "         C1        C2\n",
       "A  0.000000  7.071068\n",
       "B  2.828427  4.242641\n",
       "C  4.242641  2.828427\n",
       "D  7.071068  0.000000"
      ]
     },
     "execution_count": 5,
     "metadata": {},
     "output_type": "execute_result"
    }
   ],
   "source": [
    "# 用起来不方便, 建立一个映射表\n",
    "idx2alpha, alpha2idx = {}, {}\n",
    "alpha = ['A', 'B', 'C', 'D']\n",
    "\n",
    "for idx, al in enumerate(alpha):\n",
    "    idx2alpha[idx] = al\n",
    "    alpha2idx[al] = idx\n",
    "\n",
    "S, E = np.ones((2,1)), []\n",
    "\n",
    "for kernel in c:\n",
    "    K = np.array(kernel)\n",
    "    E.append(np.sqrt((X - K)**2 @ S))\n",
    "\n",
    "E = pd.DataFrame(np.concatenate(E, axis=1), columns=['C{}'.format(i+1) for i in range(2)], index=alpha)\n",
    "E"
   ]
  },
  {
   "cell_type": "markdown",
   "id": "d0b12ba3-b05f-49df-91f0-440bac26b245",
   "metadata": {},
   "source": [
    "这样我们就获得了距离数据 $E$，之后我们进行归类，获取最小值的 index"
   ]
  },
  {
   "cell_type": "code",
   "execution_count": 6,
   "id": "8c2cfa0d-2377-49ea-b456-b25006f19fd4",
   "metadata": {},
   "outputs": [
    {
     "data": {
      "text/html": [
       "<div>\n",
       "<style scoped>\n",
       "    .dataframe tbody tr th:only-of-type {\n",
       "        vertical-align: middle;\n",
       "    }\n",
       "\n",
       "    .dataframe tbody tr th {\n",
       "        vertical-align: top;\n",
       "    }\n",
       "\n",
       "    .dataframe thead th {\n",
       "        text-align: right;\n",
       "    }\n",
       "</style>\n",
       "<table border=\"1\" class=\"dataframe\">\n",
       "  <thead>\n",
       "    <tr style=\"text-align: right;\">\n",
       "      <th></th>\n",
       "      <th>A</th>\n",
       "      <th>B</th>\n",
       "      <th>C</th>\n",
       "      <th>D</th>\n",
       "    </tr>\n",
       "  </thead>\n",
       "  <tbody>\n",
       "    <tr>\n",
       "      <th>Class</th>\n",
       "      <td>C1</td>\n",
       "      <td>C1</td>\n",
       "      <td>C2</td>\n",
       "      <td>C2</td>\n",
       "    </tr>\n",
       "  </tbody>\n",
       "</table>\n",
       "</div>"
      ],
      "text/plain": [
       "        A   B   C   D\n",
       "Class  C1  C1  C2  C2"
      ]
     },
     "execution_count": 6,
     "metadata": {},
     "output_type": "execute_result"
    }
   ],
   "source": [
    "T = pd.DataFrame(E.idxmin(axis=1), columns=['Class'])\n",
    "T.T"
   ]
  },
  {
   "cell_type": "markdown",
   "id": "6e50c0e5-0d09-496b-a585-834ea3ab81e3",
   "metadata": {},
   "source": [
    "我们分别把 $C1、C2$ 求出来"
   ]
  },
  {
   "cell_type": "code",
   "execution_count": 7,
   "id": "b4822618-80af-4d0b-8d32-5c51b1b58608",
   "metadata": {},
   "outputs": [
    {
     "data": {
      "text/html": [
       "<div>\n",
       "<style scoped>\n",
       "    .dataframe tbody tr th:only-of-type {\n",
       "        vertical-align: middle;\n",
       "    }\n",
       "\n",
       "    .dataframe tbody tr th {\n",
       "        vertical-align: top;\n",
       "    }\n",
       "\n",
       "    .dataframe thead th {\n",
       "        text-align: right;\n",
       "    }\n",
       "</style>\n",
       "<table border=\"1\" class=\"dataframe\">\n",
       "  <thead>\n",
       "    <tr style=\"text-align: right;\">\n",
       "      <th></th>\n",
       "      <th>X</th>\n",
       "      <th>Y</th>\n",
       "    </tr>\n",
       "  </thead>\n",
       "  <tbody>\n",
       "    <tr>\n",
       "      <th>A</th>\n",
       "      <td>0</td>\n",
       "      <td>0</td>\n",
       "    </tr>\n",
       "    <tr>\n",
       "      <th>B</th>\n",
       "      <td>2</td>\n",
       "      <td>2</td>\n",
       "    </tr>\n",
       "  </tbody>\n",
       "</table>\n",
       "</div>"
      ],
      "text/plain": [
       "   X  Y\n",
       "A  0  0\n",
       "B  2  2"
      ]
     },
     "execution_count": 7,
     "metadata": {},
     "output_type": "execute_result"
    }
   ],
   "source": [
    "C1 = pd.DataFrame(x, columns=['X', 'Y'], index=alpha).loc[T[T['Class'] == 'C1'].index]\n",
    "C1"
   ]
  },
  {
   "cell_type": "code",
   "execution_count": 8,
   "id": "9dd3d742-22ab-457b-b6d6-97c6427807b2",
   "metadata": {},
   "outputs": [
    {
     "data": {
      "text/html": [
       "<div>\n",
       "<style scoped>\n",
       "    .dataframe tbody tr th:only-of-type {\n",
       "        vertical-align: middle;\n",
       "    }\n",
       "\n",
       "    .dataframe tbody tr th {\n",
       "        vertical-align: top;\n",
       "    }\n",
       "\n",
       "    .dataframe thead th {\n",
       "        text-align: right;\n",
       "    }\n",
       "</style>\n",
       "<table border=\"1\" class=\"dataframe\">\n",
       "  <thead>\n",
       "    <tr style=\"text-align: right;\">\n",
       "      <th></th>\n",
       "      <th>X</th>\n",
       "      <th>Y</th>\n",
       "    </tr>\n",
       "  </thead>\n",
       "  <tbody>\n",
       "    <tr>\n",
       "      <th>C</th>\n",
       "      <td>3</td>\n",
       "      <td>3</td>\n",
       "    </tr>\n",
       "    <tr>\n",
       "      <th>D</th>\n",
       "      <td>5</td>\n",
       "      <td>5</td>\n",
       "    </tr>\n",
       "  </tbody>\n",
       "</table>\n",
       "</div>"
      ],
      "text/plain": [
       "   X  Y\n",
       "C  3  3\n",
       "D  5  5"
      ]
     },
     "execution_count": 8,
     "metadata": {},
     "output_type": "execute_result"
    }
   ],
   "source": [
    "C2 = pd.DataFrame(x, columns=['X', 'Y'], index=alpha).loc[T[T['Class'] == 'C2'].index]\n",
    "C2"
   ]
  },
  {
   "cell_type": "markdown",
   "id": "e72e190b-6e2d-4e62-af01-b674058960d0",
   "metadata": {},
   "source": [
    "求最新的中心点 $ x_i = \\frac{\\sum_{C_j∈C_i} x_j}{N}，y_i = \\frac{\\sum_{C_j∈C_i} y_j}{N}，其中 N 为该分类点数$"
   ]
  },
  {
   "cell_type": "code",
   "execution_count": 9,
   "id": "b457b6f4-7638-41ad-bc10-91b11f8463d0",
   "metadata": {},
   "outputs": [
    {
     "data": {
      "text/html": [
       "<div>\n",
       "<style scoped>\n",
       "    .dataframe tbody tr th:only-of-type {\n",
       "        vertical-align: middle;\n",
       "    }\n",
       "\n",
       "    .dataframe tbody tr th {\n",
       "        vertical-align: top;\n",
       "    }\n",
       "\n",
       "    .dataframe thead th {\n",
       "        text-align: right;\n",
       "    }\n",
       "</style>\n",
       "<table border=\"1\" class=\"dataframe\">\n",
       "  <thead>\n",
       "    <tr style=\"text-align: right;\">\n",
       "      <th></th>\n",
       "      <th>X</th>\n",
       "      <th>Y</th>\n",
       "    </tr>\n",
       "  </thead>\n",
       "  <tbody>\n",
       "    <tr>\n",
       "      <th>C1</th>\n",
       "      <td>1.0</td>\n",
       "      <td>1.0</td>\n",
       "    </tr>\n",
       "    <tr>\n",
       "      <th>C2</th>\n",
       "      <td>4.0</td>\n",
       "      <td>4.0</td>\n",
       "    </tr>\n",
       "  </tbody>\n",
       "</table>\n",
       "</div>"
      ],
      "text/plain": [
       "      X    Y\n",
       "C1  1.0  1.0\n",
       "C2  4.0  4.0"
      ]
     },
     "execution_count": 9,
     "metadata": {},
     "output_type": "execute_result"
    }
   ],
   "source": [
    "C = pd.DataFrame([C1.mean().values, C2.mean().values], columns=['X', 'Y'], index=['C1','C2'])\n",
    "C"
   ]
  },
  {
   "cell_type": "markdown",
   "id": "188e7602-f5ec-40fc-89a2-41ee6a99ceee",
   "metadata": {},
   "source": [
    "这样我们就计算出来了最新的中心点位置，我们绘制出来"
   ]
  },
  {
   "cell_type": "code",
   "execution_count": 10,
   "id": "9a726498-e1b1-44c3-94ff-7feeb901d820",
   "metadata": {},
   "outputs": [
    {
     "data": {
      "image/png": "[encoded data removed]",
      "text/plain": [
       "<Figure size 300x300 with 1 Axes>"
      ]
     },
     "metadata": {},
     "output_type": "display_data"
    }
   ],
   "source": [
    "x = [[0,0],[2,2],[3,3],[5,5]]\n",
    "X = np.array(x)\n",
    "\n",
    "plt.figure(figsize=(3,3))\n",
    "plt.title(\"Fig2. K-Means step 1\")\n",
    "plt.scatter(C1['X'], C1['Y'], c='b')\n",
    "plt.scatter(C2['X'], C2['Y'], c='r')\n",
    "plt.scatter(C['X'], C['Y'], marker='x', c='c')\n",
    "plt.show()"
   ]
  },
  {
   "cell_type": "markdown",
   "id": "11fe9e6f-d6b9-497b-916c-840e6a00d025",
   "metadata": {},
   "source": [
    "其中蓝色是类型 $C1$ 青色是 $C2$，红色为我们的中心点\n",
    "\n",
    "我们开始整理成函数并一直执行，直到中心点不再更新"
   ]
  },
  {
   "cell_type": "code",
   "execution_count": 11,
   "id": "a06e5f9c-2f38-43f0-aa23-bc4931259f32",
   "metadata": {},
   "outputs": [
    {
     "name": "stdout",
     "output_type": "stream",
     "text": [
      "---------------------------------------------------------\n",
      "     X  Y\n",
      "C1  3  3\n",
      "C2  0  0 \n",
      "\n",
      "            X         Y\n",
      "C1  3.333333  3.333333\n",
      "C2  0.000000  0.000000\n",
      "---------------------------------------------------------\n",
      "            X         Y\n",
      "C1  3.333333  3.333333\n",
      "C2  0.000000  0.000000 \n",
      "\n",
      "            X         Y\n",
      "C1  3.333333  3.333333\n",
      "C2  0.000000  0.000000\n",
      "---------------------------------------------------------\n",
      "K-Means: 中心点不再移动\n"
     ]
    },
    {
     "data": {
      "image/png": "[encoded data removed]",
      "text/plain": [
       "<Figure size 300x300 with 1 Axes>"
      ]
     },
     "metadata": {},
     "output_type": "display_data"
    },
    {
     "data": {
      "text/html": [
       "<div>\n",
       "<style scoped>\n",
       "    .dataframe tbody tr th:only-of-type {\n",
       "        vertical-align: middle;\n",
       "    }\n",
       "\n",
       "    .dataframe tbody tr th {\n",
       "        vertical-align: top;\n",
       "    }\n",
       "\n",
       "    .dataframe thead th {\n",
       "        text-align: right;\n",
       "    }\n",
       "</style>\n",
       "<table border=\"1\" class=\"dataframe\">\n",
       "  <thead>\n",
       "    <tr style=\"text-align: right;\">\n",
       "      <th></th>\n",
       "      <th>X</th>\n",
       "      <th>Y</th>\n",
       "    </tr>\n",
       "  </thead>\n",
       "  <tbody>\n",
       "    <tr>\n",
       "      <th>C1</th>\n",
       "      <td>3.333333</td>\n",
       "      <td>3.333333</td>\n",
       "    </tr>\n",
       "    <tr>\n",
       "      <th>C2</th>\n",
       "      <td>0.000000</td>\n",
       "      <td>0.000000</td>\n",
       "    </tr>\n",
       "  </tbody>\n",
       "</table>\n",
       "</div>"
      ],
      "text/plain": [
       "           X         Y\n",
       "C1  3.333333  3.333333\n",
       "C2  0.000000  0.000000"
      ]
     },
     "execution_count": 11,
     "metadata": {},
     "output_type": "execute_result"
    }
   ],
   "source": [
    "class Kmeans():\n",
    "    '''\n",
    "    K-Means 算法类, 直接管理所有算法\n",
    "    '''\n",
    "    # 初始化 Kmeans 类用来管理算法\n",
    "    def __init__(self, x:list, k=2):\n",
    "        self.x = x\n",
    "        self.k = k\n",
    "        # 颜色管理\n",
    "        self.c = ['b','r','g','k']\n",
    "        self.cc = 'c'\n",
    "\n",
    "        self.idx2alpha, self.alpha2idx = {}, {}\n",
    "        alpha = ['A', 'B', 'C', 'D']\n",
    "        \n",
    "        for idx, al in enumerate(alpha):\n",
    "            self.idx2alpha[idx] = al\n",
    "            self.alpha2idx[al] = idx\n",
    "\n",
    "        self.X = np.array(x)\n",
    "        self.c_ = pd.DataFrame(random.sample(self.x, 2), columns=['X', 'Y'], index=['C{}'.format(i+1) for i in range(self.k)])\n",
    "        self.pf_list = None\n",
    "\n",
    "    # update 用来重新选取点\n",
    "    def update(self, x=None, c=None):\n",
    "        if c is not None:\n",
    "            self.c_ = pd.DataFrame(c, columns=['X', 'Y'], index=['C{}'.format(i+1) for i in range(self.k)])\n",
    "            return\n",
    "        if x is None:\n",
    "            self.c_ = random.sample(self.x, self.k)\n",
    "        else:\n",
    "            self.c_ = random.sample(x, self.k)\n",
    "\n",
    "    # 获取当前的分类中心点\n",
    "    def get_c_(self):\n",
    "        return self.c_\n",
    "\n",
    "    # 用于计算 K-Means\n",
    "    def forward(self, verbose=True, ax=None):\n",
    "        S = np.ones((self.k,1))\n",
    "\n",
    "        counter = 50\n",
    "        while counter > 0:\n",
    "            counter -= 1\n",
    "            \n",
    "            E = []\n",
    "            for kernel in self.c_.values:\n",
    "                K = np.array(kernel)\n",
    "                E.append(np.sqrt((self.X - K)**2 @ S))\n",
    "            \n",
    "            E = pd.DataFrame(np.concatenate(E, axis=1), columns=['C{}'.format(i+1) for i in range(2)], index=alpha)\n",
    "            T = pd.DataFrame(E.idxmin(axis=1), columns=['Class'])\n",
    "    \n",
    "            self.pf_list = []\n",
    "            for ty in E.columns:\n",
    "                self.pf_list.append(pd.DataFrame(x, columns=['X', 'Y'], index=alpha).loc[T[T['Class'] == ty].index])\n",
    "    \n",
    "            c_ = pd.DataFrame([pf.mean().values for pf in self.pf_list], columns=['X', 'Y'], index=['C{}'.format(i+1) for i in range(self.k)])\n",
    "\n",
    "            if verbose:\n",
    "                print(\"---------------------------------------------------------\\n\", self.c_, '\\n\\n', c_)\n",
    "            if self.c_ is None:\n",
    "                self.c_ = c_\n",
    "                continue\n",
    "            \n",
    "            if c_.equals(self.c_):\n",
    "                if verbose:\n",
    "                    print('---------------------------------------------------------\\nK-Means: 中心点不再移动')\n",
    "                break\n",
    "                \n",
    "            self.c_ = c_\n",
    "        self.plot(ax)\n",
    "\n",
    "    # 将图片绘制出来\n",
    "    def plot(self, ax=None):\n",
    "        if ax is None:\n",
    "            plt.figure(figsize=(3,3))\n",
    "            plt.title(\"K-Means plot\")\n",
    "            for idx, pf in enumerate(self.pf_list):\n",
    "                plt.scatter(pf['X'], pf['Y'], c=self.c[idx])\n",
    "            plt.scatter(self.c_['X'], self.c_['Y'], marker='x', c=self.cc)\n",
    "            plt.show()\n",
    "        else:\n",
    "            for idx, pf in enumerate(self.pf_list):\n",
    "                ax.scatter(pf['X'], pf['Y'], c=self.c[idx])\n",
    "            ax.scatter(self.c_['X'], self.c_['Y'], marker='x', c=self.cc)\n",
    "\n",
    "kmeans = Kmeans(x=x, k=2)\n",
    "kmeans.forward()\n",
    "pd.DataFrame(kmeans.get_c_())"
   ]
  },
  {
   "cell_type": "markdown",
   "id": "1c2d5c02-b756-40bb-a407-585777d9adea",
   "metadata": {},
   "source": [
    "让我们更直观的看一下不同的选取点会有什么效果"
   ]
  },
  {
   "cell_type": "code",
   "execution_count": 12,
   "id": "7d0811bb-2619-47c1-9a48-90a5655e2823",
   "metadata": {},
   "outputs": [
    {
     "data": {
      "image/png": "[encoded data removed]",
      "text/plain": [
       "<Figure size 1000x300 with 3 Axes>"
      ]
     },
     "metadata": {},
     "output_type": "display_data"
    }
   ],
   "source": [
    "fig, ax = plt.subplots(1, 3, figsize=(10, 3))\n",
    "\n",
    "kmeans.update(c=[[0,0],[2,2]])\n",
    "kmeans.forward(verbose=False, ax=ax[0])\n",
    "\n",
    "kmeans.update(c=[[2,2],[3,3]])\n",
    "kmeans.forward(verbose=False, ax=ax[1])\n",
    "\n",
    "kmeans.update(c=[[3,3],[5,5]])\n",
    "kmeans.forward(verbose=False, ax=ax[2])\n",
    "\n",
    "plt.tight_layout()\n",
    "plt.show()"
   ]
  },
  {
   "cell_type": "markdown",
   "id": "5d22080f-7394-4b50-8f54-c3e93791195b",
   "metadata": {},
   "source": [
    "可以看出来这三个选取点，产生了完全不一样的结果，所以 K-Means 算法是有局部最优特性的"
   ]
  }
 ],
 "metadata": {
  "kernelspec": {
   "display_name": "Python 3 (ipykernel)",
   "language": "python",
   "name": "python3"
  },
  "language_info": {
   "codemirror_mode": {
    "name": "ipython",
    "version": 3
   },
   "file_extension": ".py",
   "mimetype": "text/x-python",
   "name": "python",
   "nbconvert_exporter": "python",
   "pygments_lexer": "ipython3",
   "version": "3.9.20"
  }
 },
 "nbformat": 4,
 "nbformat_minor": 5
}
